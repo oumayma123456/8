{
 "cells": [
  {
   "cell_type": "code",
   "execution_count": 82,
   "id": "1a3a66b1-aca2-46b6-b4a7-135ee3581fda",
   "metadata": {},
   "outputs": [],
   "source": [
    "from selenium import webdriver\n",
    "import time\n",
    "import pandas as pd\n",
    "import os\n",
    "import csv\n",
    "from selenium.webdriver.support.select import Select\n",
    "from selenium.webdriver.support.ui import WebDriverWait\n",
    "from selenium.webdriver.common.by import By\n",
    "from selenium.webdriver.support import expected_conditions as EC\n",
    "from selenium.webdriver.common.keys import Keys\n",
    "from selenium.common.exceptions import StaleElementReferenceException\n",
    "\n",
    "\n"
   ]
  },
  {
   "cell_type": "code",
   "execution_count": 24,
   "id": "c116ce7a-7b3e-44db-a18a-77f2e361b5c7",
   "metadata": {},
   "outputs": [],
   "source": [
    "chromedriver_path = r'C:\\Users\\IMINFO\\Downloads\\chromedriver_win32\\chromedriver.exe'"
   ]
  },
  {
   "cell_type": "code",
   "execution_count": 25,
   "id": "8b5716b4-0aea-482b-aed5-186e4bd2466c",
   "metadata": {},
   "outputs": [],
   "source": [
    "chrome_options = webdriver.ChromeOptions()\n",
    "chrome_options.binary_location = r\"C:\\Program Files\\Google\\Chrome\\Application\\chrome.exe\"\n",
    "chrome_options.add_argument(\"--start-maximized\")\n",
    "chrome_options.add_argument(\"--disable-extensions\")"
   ]
  },
  {
   "cell_type": "code",
   "execution_count": 26,
   "id": "96620776-bded-45aa-8b0b-e169d4029794",
   "metadata": {},
   "outputs": [],
   "source": [
    "chrome_options.binary_location = chromedriver_path"
   ]
  },
  {
   "cell_type": "code",
   "execution_count": 27,
   "id": "408e5f35-8760-470a-99f6-e8bf5ee98b83",
   "metadata": {},
   "outputs": [],
   "source": [
    "driver = webdriver.Chrome(options=chrome_options)\n",
    "driver.get('https://www.linkedin.com/jobs')"
   ]
  },
  {
   "cell_type": "code",
   "execution_count": 28,
   "id": "497e58a3-f16e-49fc-adba-dc13d952606b",
   "metadata": {},
   "outputs": [],
   "source": [
    "search_input = driver.find_element('xpath', \"//input[@aria-label='Chercher par intitulé de poste, compétence ou entreprise']\")"
   ]
  },
  {
   "cell_type": "code",
   "execution_count": 29,
   "id": "d9562fb5-4849-4122-bd12-8482dee835e7",
   "metadata": {},
   "outputs": [],
   "source": [
    "search_input.send_keys('Python Developer')"
   ]
  },
  {
   "cell_type": "code",
   "execution_count": 30,
   "id": "b424edeb-7858-454a-8e66-58a9f71b9398",
   "metadata": {},
   "outputs": [],
   "source": [
    "search_input.send_keys(Keys.RETURN)"
   ]
  },
  {
   "cell_type": "code",
   "execution_count": 31,
   "id": "d0983e0a-75e4-4489-af9a-68b17471c296",
   "metadata": {},
   "outputs": [],
   "source": [
    "time.sleep(3)"
   ]
  },
  {
   "cell_type": "code",
   "execution_count": 121,
   "id": "acbcdff7-2d88-4bcb-9579-4462a5554884",
   "metadata": {},
   "outputs": [],
   "source": [
    "for _ in range(3):  # Scroll 3 times\n",
    "    driver.execute_script('window.scrollTo(0, document.body.scrollHeight);')\n",
    "    time.sleep(2)"
   ]
  },
  {
   "cell_type": "code",
   "execution_count": 124,
   "id": "fde0ba9c-46de-4083-a58d-abb8c7499df2",
   "metadata": {},
   "outputs": [
    {
     "name": "stdout",
     "output_type": "stream",
     "text": [
      "Job Title: Développeur R&D - Tunis\n",
      "Company: NeoXam Tunisie\n",
      "Location: Gouvernorat Tunis, Tunisie (Hybride) Republiée  il y a 2 jours\n",
      "Skills: Microsoft SQL Server, SQL, Produits Sybase, XML, Unix, Linux, Java Message Service (JMS), Oracle Database, Fortran et Pascal\n",
      "--------------------------------------------------\n",
      "Job Title: PG SQA Serial Engineer (M/F)\n",
      "Company: Valeo\n",
      "Location: Gouvernorat Ben Arous, Tunisie (Sur site) Republiée  il y a 3 jours\n",
      "Skills: Cycle PDCA, HIS, Test d’applications mobiles, Assurance qualité logiciel, Tests d’API, Tests manuels, Calcul différentiel et intégral, API Postman, Test de sites web et Cas de test\n",
      "--------------------------------------------------\n",
      "Job Title: Senior Unity Mobile Developer\n",
      "Company: Anywr\n",
      "Location: Gouvernorat Tunis, Tunisie (Sur site) Republiée  il y a 3 semaines\n",
      "Skills: Git, Multithreading, Oracle Database, Anglais, Representational State Transfer (REST), Développement d’applications mobiles, Développement Android, Unity, Android et Science informatique\n",
      "--------------------------------------------------\n",
      "Job Title: Développeur Drupal SENIOR/EXPERT (Rémunération attractive-Distanciel Possible)\n",
      "Company: STRATIS WorldWide\n",
      "Location: Sfax Metropolitan Area (Sur site)  il y a 2 mois\n",
      "Skills: Drupal, Gouvernance du cloud, SQL, PHP, Systèmes de gestion de contenu (CMS), MySQL, Expérience utilisateur (UX), Gated Recurrent Units (GRU), Produits Docker et Doctrine\n",
      "--------------------------------------------------\n",
      "Job Title: Full Stack Developer\n",
      "Company: Azurreo\n",
      "Location: Tunisie (À distance)  il y a 3 jours\n",
      "Skills: Langages web, Tailwind CSS, Feuilles de style en cascade (CSS), Sens de l’organisation, Résolution de problèmes, Développement full-stack, Développement d’applications, JIRA, Sens de l’écoute et Pile informatique\n",
      "--------------------------------------------------\n",
      "Job Title: Développeur Drupal\n",
      "Company: Devoteam Tunisie\n",
      "Location: Tunis, Gouvernorat Tunis, Tunisie (Hybride) Republiée  il y a 1 semaine\n",
      "Skills: Résolution de difficultés, Drupal, Langages web, Développement web, Bases de données, JavaScript, Développement de logiciels, HTML, Résolution de problèmes et PHP\n",
      "--------------------------------------------------\n",
      "Job Title: Senior Developer Odoo (Tunisia based)\n",
      "Company: Scalable Global Solutions JSC\n",
      "Location: Tunisie (À distance) Republiée  il y a 1 mois\n",
      "Skills: Odoo, JavaScript, Anglais, Feuilles de style en cascade (CSS), Python (langage de programmation), PostgreSQL, Structure des données, Gestion de la relation client (CRM), SQL et HTML\n",
      "--------------------------------------------------\n",
      "Job Title: Data Engineer\n",
      "Company: Sambac Lab\n",
      "Location: Tunis, Gouvernorat Tunis, Tunisie (Hybride)  il y a 1 mois\n",
      "Skills: Service Azure Kubernetes (AKS), Graphiques Helm, Ingénierie des données, Apache Spark Streaming, Apache Spark et Rust\n",
      "--------------------------------------------------\n",
      "Job Title: Développeurs C# WPF\n",
      "Company: Agoragroup\n",
      "Location: Tunis, Gouvernorat Tunis, Tunisie (Hybride)  il y a 2 mois\n",
      "Skills: .NET Core, ERP Infor, WPF, C#, .NET framework, DevOps, API REST, Développement de logiciels, SQL et Interfaces\n",
      "--------------------------------------------------\n",
      "Job Title: Mid Backend Engineer- Kaspr\n",
      "Company: Cognism\n",
      "Location: Tunis, Gouvernorat Tunis, Tunisie (Sur site) Republiée  il y a 2 jours\n",
      "Skills: Microservices, API REST, HubSpot, Node.js, JavaScript, Apache Kafka, Développement web back-end, Sens de l’organisation, RabbitMQ et Anglais\n",
      "--------------------------------------------------\n",
      "Job Title: Back-End Engineer - Infrastructure\n",
      "Company: Deel\n",
      "Location: Europe, Moyen-Orient et Afrique (À distance)  il y a 2 semaines\n",
      "Skills: Développement web back-end, Apache Kafka, Résolution de problèmes, Communication, Node.js, Conception de systèmes, PostgreSQL, Kubernetes, JavaScript et Produits Docker\n",
      "--------------------------------------------------\n",
      "Job Title: Développeur Junior\n",
      "Company: Linedata\n",
      "Location: Tunis, Gouvernorat Tunis, Tunisie (Sur site) Republiée  il y a 1 semaine\n",
      "Skills: Résolution de difficultés, Bases de données, Résolution de problèmes, Manipulation de données, Bases de données relationnelles, Version Management, Compétences interpersonnelles, Communication, Développement informatique et Anglais\n",
      "--------------------------------------------------\n",
      "Job Title: Ingénieurs DevOps ( Lyon )\n",
      "Company: Hillstone\n",
      "Location: Tunis, Gouvernorat Tunis, Tunisie (Hybride)  il y a 3 semaines\n",
      "Skills: Jenkins, Ansible, Logstash, MongoDB, Git, Terraform, PostgreSQL, Sonarqube, Produits Docker et Elasticsearch\n",
      "--------------------------------------------------\n",
      "Job Title: Data Engineer\n",
      "Company: OoLab Tunisia\n",
      "Location: Gouvernorat Tunis, Tunisie (Hybride) Republiée  il y a 1 mois\n",
      "Skills: SQL, Unix, Java, Lac de données et Linux\n",
      "--------------------------------------------------\n",
      "Job Title: Glover Specialist (They/She/He)\n",
      "Company: Glovo\n",
      "Location: Gouvernorat Tunis, Tunisie (Hybride) Republiée  il y a 1 semaine\n",
      "Skills: Administration générale, Interprétation de données, Gestion des flottes, Indicateurs clés de performance, Communication, Activités quotidiennes de l’entreprise, Approvisionnement, Résolution de problèmes, Compétences analytiques et Négociation\n",
      "--------------------------------------------------\n",
      "Job Title: Developpeurs Back End\n",
      "Company: Capgemini Engineering\n",
      "Location: Gouvernorat Tunis, Tunisie (Sur site)  il y a 2 semaines\n",
      "Skills: NUnit, Test unitaire, Kubernetes, GitHub, Produits Docker, Python (langage de programmation), Git, Angular, xUnit et Amazon Simple Queue Service (SQS)\n",
      "--------------------------------------------------\n",
      "Job Title: Python Software Engineer - Ubuntu Hardware Certification Team\n",
      "Company: Canonical\n",
      "Location: Europe, Moyen-Orient et Afrique (À distance) Republiée  il y a 2 semaines\n",
      "Skills: Test de matériel informatique, Python (langage de programmation), Développement de logiciels, C (langage de programmation), Programmation, Conception de logiciels, Voyages internationaux, Environnement agile, Langages de programmation et Distribution Linux\n",
      "--------------------------------------------------\n",
      "Job Title: Data Engineer/SQL expert\n",
      "Company: Devoteam Tunisie\n",
      "Location: Tunis, Gouvernorat Tunis, Tunisie (Sur site)  il y a 2 semaines\n",
      "Skills: Avro, Apache Kafka, Ingénierie des données, Extract, Transform, Load (ETL), Apache Spark, Elasticsearch, Système de gestion de base de données (SGBD), Analytique, NoSQL et Big data\n",
      "--------------------------------------------------\n"
     ]
    }
   ],
   "source": [
    "search_results_parent = driver.find_element(By.CSS_SELECTOR, '.jobs-search-results-list')\n",
    "job_card_containers = search_results_parent.find_elements(By.CSS_SELECTOR, '.job-card-container.relative.job-card-list.job-card-container--clickable')\n",
    "job_list = []\n",
    "for job_card in job_card_containers:\n",
    "    job_link_element = job_card.find_element(By.CSS_SELECTOR, 'a.job-card-container__link')\n",
    "    job_link_element.click()\n",
    "\n",
    "    wait.until(EC.presence_of_element_located((By.CSS_SELECTOR, '.jobs-unified-top-card__job-title')))\n",
    "    \n",
    "    job_title = driver.find_element(By.CSS_SELECTOR, '.jobs-unified-top-card__job-title').text\n",
    "    \n",
    "    job_details_element = driver.find_element(By.CSS_SELECTOR, '.jobs-unified-top-card__primary-description')\n",
    "    job_details = job_details_element.text\n",
    "    \n",
    "    company_name_location = job_details.split('·')\n",
    "    \n",
    "    company_name = company_name_location[0].strip()\n",
    "    location = company_name_location[1].strip()\n",
    "    skills_element = driver.find_element(By.CSS_SELECTOR, '.job-details-how-you-match__skills-item-subtitle')\n",
    "    skills = skills_element.text.strip()\n",
    "    \n",
    "    job_info = {\n",
    "        \"Title\": job_title,\n",
    "        \"Company\": company_name,\n",
    "        \"Location\": location,\n",
    "        \"Skills\": skills\n",
    "    }\n",
    "    \n",
    "    job_list.append(job_info)\n",
    "\n",
    "    # Go back to the job search results page\n",
    "    driver.back()\n",
    "\n",
    "# Print job details\n",
    "for job in job_list:\n",
    "    print(\"Job Title:\", job[\"Title\"])\n",
    "    print(\"Company:\", job[\"Company\"])\n",
    "    print(\"Location:\", job[\"Location\"])\n",
    "    print(\"Skills:\", job[\"Skills\"]) \n",
    "    print(\"-\" * 50)"
   ]
  },
  {
   "cell_type": "code",
   "execution_count": 100,
   "id": "0ff05433-bc03-406c-a5d9-02ff2f71fcc9",
   "metadata": {},
   "outputs": [
    {
     "name": "stdout",
     "output_type": "stream",
     "text": [
      "Job details saved to custom_job_details2.csv\n"
     ]
    }
   ],
   "source": [
    "csv_filename = 'custom_job_details2.csv'  # Change the filename here\n",
    "with open(csv_filename, 'w', newline='', encoding='utf-8') as file:\n",
    "    fieldnames = ['Title', 'Company', 'Location','Skills']  # Add other fieldnames as needed\n",
    "    writer = csv.DictWriter(file, fieldnames=fieldnames)\n",
    "    writer.writeheader()\n",
    "\n",
    "    for job in job_list:\n",
    "        writer.writerow(job)\n",
    "\n",
    "print(f'Job details saved to {csv_filename}')"
   ]
  }
 ],
 "metadata": {
  "kernelspec": {
   "display_name": "Python 3 (ipykernel)",
   "language": "python",
   "name": "python3"
  },
  "language_info": {
   "codemirror_mode": {
    "name": "ipython",
    "version": 3
   },
   "file_extension": ".py",
   "mimetype": "text/x-python",
   "name": "python",
   "nbconvert_exporter": "python",
   "pygments_lexer": "ipython3",
   "version": "3.11.4"
  }
 },
 "nbformat": 4,
 "nbformat_minor": 5
}
